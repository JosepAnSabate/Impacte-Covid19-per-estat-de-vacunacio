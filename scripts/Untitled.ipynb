{
 "cells": [
  {
   "cell_type": "code",
   "execution_count": 14,
   "id": "1dc95a90",
   "metadata": {},
   "outputs": [],
   "source": [
    "import pandas as pd\n",
    "import os\n",
    "from datetime import datetime"
   ]
  },
  {
   "cell_type": "markdown",
   "id": "51511b9c",
   "metadata": {},
   "source": [
    "[https://dadescovid.cat/documentacio](https://dadescovid.cat/documentacio)\n",
    "\n",
    "Aquestes dades provenen de diversos sistemes d'informació del Departament de Salut i del Servei Català de la Salut, detallats a https://dadescovid.cat/documentacio , i mostren, per a la data de referencia de cada registre, per sexe, per grup d'edat i per a tot Catalunya, des de l'inici de la campanya de vacunació, l'1 de gener de 2021, l'impacte del COVID-19 (nous casos, hospitalitzacions, hospitalitzacions en crítics i defuncions) segons l'estat de vacunació de les persones afectades.\n",
    "\n",
    "Cal tenir en compte que una mateixa persona està comptada tantes vegades com esdeveniments pels quals hagi passat.\n",
    "\n",
    "### Cal tenir en compte que una mateixa persona està comptada tantes vegades com esdeveniments pels quals hagi passat.\n",
    "\n",
    "### Usem els casos COVID-19 confirmats per PCR/TAR per al seguiment epidemiològic\n",
    "Primer de tot, els casos de COVID-19 confirmats per fer un seguiment epidemiològic són exclusivament els confirmats per PCR/TAR, ja que la PCR/TAR+ ens indica que és un cas actiu i pel seguiment epidemiològic és important la data en què s’inicia el cas.\n",
    "\n",
    "### Hem de diferenciar el seguiment segons si la població és general o de residència\n",
    "I en tercer lloc és important diferenciar dues poblacions, la general i la de residències, ja que el seu comportament epidemiològic és totalment diferent, com es va poder veure en la primera onada. Per una banda, la població general viu en la comunitat i es relaciona i mou d’una determinada manera; les persones ingressades en residències geriàtriques, viuen en comunitats molt tancades i en llocs molt tancats i la seva mobilitat és molt reduïda. Donades aquestes característiques, no es pot fer el seguiment epidemiològic conjunt de les dues poblacions i és per això que a la web presentem les dades separades."
   ]
  },
  {
   "cell_type": "code",
   "execution_count": 43,
   "id": "cd455e26",
   "metadata": {},
   "outputs": [],
   "source": [
    "# handlig dates\n",
    "dateparse = lambda x: datetime.strptime(x, '%d/%m/%Y')"
   ]
  },
  {
   "cell_type": "code",
   "execution_count": 54,
   "id": "38986e1e",
   "metadata": {},
   "outputs": [],
   "source": [
    "filepath = 'C:/Users/34639/wa/impacte_covid_per_estat_vacunacio/dades/impacte_covid_vacunacio.csv'"
   ]
  },
  {
   "cell_type": "code",
   "execution_count": 67,
   "id": "e970294e",
   "metadata": {
    "scrolled": false
   },
   "outputs": [
    {
     "data": {
      "text/html": [
       "<div>\n",
       "<style scoped>\n",
       "    .dataframe tbody tr th:only-of-type {\n",
       "        vertical-align: middle;\n",
       "    }\n",
       "\n",
       "    .dataframe tbody tr th {\n",
       "        vertical-align: top;\n",
       "    }\n",
       "\n",
       "    .dataframe thead th {\n",
       "        text-align: right;\n",
       "    }\n",
       "</style>\n",
       "<table border=\"1\" class=\"dataframe\">\n",
       "  <thead>\n",
       "    <tr style=\"text-align: right;\">\n",
       "      <th></th>\n",
       "      <th>SEXE</th>\n",
       "      <th>EDAT</th>\n",
       "      <th>DATA</th>\n",
       "      <th>ESDEVENIMENT</th>\n",
       "      <th>PAUTA</th>\n",
       "      <th>RECOMPTE</th>\n",
       "    </tr>\n",
       "  </thead>\n",
       "  <tbody>\n",
       "    <tr>\n",
       "      <th>0</th>\n",
       "      <td>Dona</td>\n",
       "      <td>0 a 9</td>\n",
       "      <td>2022-01-12</td>\n",
       "      <td>Cas</td>\n",
       "      <td>Parcial</td>\n",
       "      <td>107</td>\n",
       "    </tr>\n",
       "    <tr>\n",
       "      <th>1</th>\n",
       "      <td>Dona</td>\n",
       "      <td>0 a 9</td>\n",
       "      <td>2022-01-12</td>\n",
       "      <td>Cas</td>\n",
       "      <td>No iniciada</td>\n",
       "      <td>784</td>\n",
       "    </tr>\n",
       "    <tr>\n",
       "      <th>2</th>\n",
       "      <td>Home</td>\n",
       "      <td>0 a 9</td>\n",
       "      <td>2022-01-12</td>\n",
       "      <td>Cas</td>\n",
       "      <td>No iniciada</td>\n",
       "      <td>865</td>\n",
       "    </tr>\n",
       "    <tr>\n",
       "      <th>3</th>\n",
       "      <td>Home</td>\n",
       "      <td>0 a 9</td>\n",
       "      <td>2022-01-12</td>\n",
       "      <td>Cas</td>\n",
       "      <td>Parcial</td>\n",
       "      <td>126</td>\n",
       "    </tr>\n",
       "    <tr>\n",
       "      <th>4</th>\n",
       "      <td>Home</td>\n",
       "      <td>0 a 9</td>\n",
       "      <td>2022-01-12</td>\n",
       "      <td>Hospitalització</td>\n",
       "      <td>No iniciada</td>\n",
       "      <td>2</td>\n",
       "    </tr>\n",
       "  </tbody>\n",
       "</table>\n",
       "</div>"
      ],
      "text/plain": [
       "   SEXE   EDAT       DATA     ESDEVENIMENT        PAUTA  RECOMPTE\n",
       "0  Dona  0 a 9 2022-01-12              Cas      Parcial       107\n",
       "1  Dona  0 a 9 2022-01-12              Cas  No iniciada       784\n",
       "2  Home  0 a 9 2022-01-12              Cas  No iniciada       865\n",
       "3  Home  0 a 9 2022-01-12              Cas      Parcial       126\n",
       "4  Home  0 a 9 2022-01-12  Hospitalització  No iniciada         2"
      ]
     },
     "execution_count": 67,
     "metadata": {},
     "output_type": "execute_result"
    }
   ],
   "source": [
    "df = pd.read_csv(filepath,parse_dates=['DATA'], date_parser=dateparse)\n",
    "df.head(5)"
   ]
  },
  {
   "cell_type": "code",
   "execution_count": 68,
   "id": "15927eae",
   "metadata": {},
   "outputs": [
    {
     "data": {
      "text/plain": [
       "Cas                14764\n",
       "Hospitalització     8030\n",
       "Crítics             3566\n",
       "Defunció            2423\n",
       "Name: ESDEVENIMENT, dtype: int64"
      ]
     },
     "execution_count": 68,
     "metadata": {},
     "output_type": "execute_result"
    }
   ],
   "source": [
    "df['ESDEVENIMENT'].value_counts()"
   ]
  },
  {
   "cell_type": "code",
   "execution_count": 69,
   "id": "2d418219",
   "metadata": {},
   "outputs": [
    {
     "name": "stdout",
     "output_type": "stream",
     "text": [
      "<class 'pandas.core.frame.DataFrame'>\n",
      "RangeIndex: 28783 entries, 0 to 28782\n",
      "Data columns (total 6 columns):\n",
      " #   Column        Non-Null Count  Dtype         \n",
      "---  ------        --------------  -----         \n",
      " 0   SEXE          28783 non-null  object        \n",
      " 1   EDAT          28783 non-null  object        \n",
      " 2   DATA          28783 non-null  datetime64[ns]\n",
      " 3   ESDEVENIMENT  28783 non-null  object        \n",
      " 4   PAUTA         28783 non-null  object        \n",
      " 5   RECOMPTE      28783 non-null  int64         \n",
      "dtypes: datetime64[ns](1), int64(1), object(4)\n",
      "memory usage: 1.3+ MB\n"
     ]
    }
   ],
   "source": [
    "df.info()"
   ]
  },
  {
   "cell_type": "code",
   "execution_count": 70,
   "id": "731730f1",
   "metadata": {},
   "outputs": [
    {
     "data": {
      "text/plain": [
       "(28783, 6)"
      ]
     },
     "execution_count": 70,
     "metadata": {},
     "output_type": "execute_result"
    }
   ],
   "source": [
    "df.shape"
   ]
  },
  {
   "cell_type": "code",
   "execution_count": 71,
   "id": "3a9c4571",
   "metadata": {},
   "outputs": [],
   "source": [
    "# sum homes and dones\n",
    "df_unisex = df.groupby([ \"DATA\", \"EDAT\", \"ESDEVENIMENT\", \"PAUTA\"])[[\"RECOMPTE\"]].sum() "
   ]
  },
  {
   "cell_type": "code",
   "execution_count": 72,
   "id": "86ea8a3d",
   "metadata": {},
   "outputs": [
    {
     "data": {
      "text/html": [
       "<div>\n",
       "<style scoped>\n",
       "    .dataframe tbody tr th:only-of-type {\n",
       "        vertical-align: middle;\n",
       "    }\n",
       "\n",
       "    .dataframe tbody tr th {\n",
       "        vertical-align: top;\n",
       "    }\n",
       "\n",
       "    .dataframe thead th {\n",
       "        text-align: right;\n",
       "    }\n",
       "</style>\n",
       "<table border=\"1\" class=\"dataframe\">\n",
       "  <thead>\n",
       "    <tr style=\"text-align: right;\">\n",
       "      <th></th>\n",
       "      <th></th>\n",
       "      <th></th>\n",
       "      <th></th>\n",
       "      <th>RECOMPTE</th>\n",
       "    </tr>\n",
       "    <tr>\n",
       "      <th>DATA</th>\n",
       "      <th>EDAT</th>\n",
       "      <th>ESDEVENIMENT</th>\n",
       "      <th>PAUTA</th>\n",
       "      <th></th>\n",
       "    </tr>\n",
       "  </thead>\n",
       "  <tbody>\n",
       "    <tr>\n",
       "      <th rowspan=\"20\" valign=\"top\">2021-01-01</th>\n",
       "      <th>0 a 9</th>\n",
       "      <th>Cas</th>\n",
       "      <th>No iniciada</th>\n",
       "      <td>57</td>\n",
       "    </tr>\n",
       "    <tr>\n",
       "      <th>10 a 19</th>\n",
       "      <th>Cas</th>\n",
       "      <th>No iniciada</th>\n",
       "      <td>115</td>\n",
       "    </tr>\n",
       "    <tr>\n",
       "      <th rowspan=\"2\" valign=\"top\">20 a 29</th>\n",
       "      <th>Cas</th>\n",
       "      <th>No iniciada</th>\n",
       "      <td>157</td>\n",
       "    </tr>\n",
       "    <tr>\n",
       "      <th>Hospitalització</th>\n",
       "      <th>No iniciada</th>\n",
       "      <td>2</td>\n",
       "    </tr>\n",
       "    <tr>\n",
       "      <th rowspan=\"3\" valign=\"top\">30 a 39</th>\n",
       "      <th>Cas</th>\n",
       "      <th>No iniciada</th>\n",
       "      <td>184</td>\n",
       "    </tr>\n",
       "    <tr>\n",
       "      <th>Crítics</th>\n",
       "      <th>No iniciada</th>\n",
       "      <td>1</td>\n",
       "    </tr>\n",
       "    <tr>\n",
       "      <th>Hospitalització</th>\n",
       "      <th>No iniciada</th>\n",
       "      <td>7</td>\n",
       "    </tr>\n",
       "    <tr>\n",
       "      <th rowspan=\"3\" valign=\"top\">40 a 49</th>\n",
       "      <th>Cas</th>\n",
       "      <th>No iniciada</th>\n",
       "      <td>237</td>\n",
       "    </tr>\n",
       "    <tr>\n",
       "      <th>Crítics</th>\n",
       "      <th>No iniciada</th>\n",
       "      <td>1</td>\n",
       "    </tr>\n",
       "    <tr>\n",
       "      <th>Hospitalització</th>\n",
       "      <th>No iniciada</th>\n",
       "      <td>15</td>\n",
       "    </tr>\n",
       "    <tr>\n",
       "      <th rowspan=\"4\" valign=\"top\">50 a 59</th>\n",
       "      <th>Cas</th>\n",
       "      <th>No iniciada</th>\n",
       "      <td>231</td>\n",
       "    </tr>\n",
       "    <tr>\n",
       "      <th>Crítics</th>\n",
       "      <th>No iniciada</th>\n",
       "      <td>3</td>\n",
       "    </tr>\n",
       "    <tr>\n",
       "      <th>Defunció</th>\n",
       "      <th>No iniciada</th>\n",
       "      <td>1</td>\n",
       "    </tr>\n",
       "    <tr>\n",
       "      <th>Hospitalització</th>\n",
       "      <th>No iniciada</th>\n",
       "      <td>29</td>\n",
       "    </tr>\n",
       "    <tr>\n",
       "      <th rowspan=\"4\" valign=\"top\">60 a 69</th>\n",
       "      <th>Cas</th>\n",
       "      <th>No iniciada</th>\n",
       "      <td>119</td>\n",
       "    </tr>\n",
       "    <tr>\n",
       "      <th>Crítics</th>\n",
       "      <th>No iniciada</th>\n",
       "      <td>6</td>\n",
       "    </tr>\n",
       "    <tr>\n",
       "      <th>Defunció</th>\n",
       "      <th>No iniciada</th>\n",
       "      <td>7</td>\n",
       "    </tr>\n",
       "    <tr>\n",
       "      <th>Hospitalització</th>\n",
       "      <th>No iniciada</th>\n",
       "      <td>29</td>\n",
       "    </tr>\n",
       "    <tr>\n",
       "      <th rowspan=\"2\" valign=\"top\">70 a 79</th>\n",
       "      <th>Cas</th>\n",
       "      <th>No iniciada</th>\n",
       "      <td>66</td>\n",
       "    </tr>\n",
       "    <tr>\n",
       "      <th>Crítics</th>\n",
       "      <th>No iniciada</th>\n",
       "      <td>4</td>\n",
       "    </tr>\n",
       "  </tbody>\n",
       "</table>\n",
       "</div>"
      ],
      "text/plain": [
       "                                                RECOMPTE\n",
       "DATA       EDAT    ESDEVENIMENT    PAUTA                \n",
       "2021-01-01 0 a 9   Cas             No iniciada        57\n",
       "           10 a 19 Cas             No iniciada       115\n",
       "           20 a 29 Cas             No iniciada       157\n",
       "                   Hospitalització No iniciada         2\n",
       "           30 a 39 Cas             No iniciada       184\n",
       "                   Crítics         No iniciada         1\n",
       "                   Hospitalització No iniciada         7\n",
       "           40 a 49 Cas             No iniciada       237\n",
       "                   Crítics         No iniciada         1\n",
       "                   Hospitalització No iniciada        15\n",
       "           50 a 59 Cas             No iniciada       231\n",
       "                   Crítics         No iniciada         3\n",
       "                   Defunció        No iniciada         1\n",
       "                   Hospitalització No iniciada        29\n",
       "           60 a 69 Cas             No iniciada       119\n",
       "                   Crítics         No iniciada         6\n",
       "                   Defunció        No iniciada         7\n",
       "                   Hospitalització No iniciada        29\n",
       "           70 a 79 Cas             No iniciada        66\n",
       "                   Crítics         No iniciada         4"
      ]
     },
     "execution_count": 72,
     "metadata": {},
     "output_type": "execute_result"
    }
   ],
   "source": [
    "df_unisex.head(20)"
   ]
  },
  {
   "cell_type": "code",
   "execution_count": 73,
   "id": "dba5d27f",
   "metadata": {},
   "outputs": [
    {
     "data": {
      "text/plain": [
       "(17543, 1)"
      ]
     },
     "execution_count": 73,
     "metadata": {},
     "output_type": "execute_result"
    }
   ],
   "source": [
    "df_unisex.shape"
   ]
  },
  {
   "cell_type": "code",
   "execution_count": 74,
   "id": "6ecc1647",
   "metadata": {},
   "outputs": [
    {
     "data": {
      "text/html": [
       "<div>\n",
       "<style scoped>\n",
       "    .dataframe tbody tr th:only-of-type {\n",
       "        vertical-align: middle;\n",
       "    }\n",
       "\n",
       "    .dataframe tbody tr th {\n",
       "        vertical-align: top;\n",
       "    }\n",
       "\n",
       "    .dataframe thead th {\n",
       "        text-align: right;\n",
       "    }\n",
       "</style>\n",
       "<table border=\"1\" class=\"dataframe\">\n",
       "  <thead>\n",
       "    <tr style=\"text-align: right;\">\n",
       "      <th></th>\n",
       "      <th>DATA</th>\n",
       "      <th>EDAT</th>\n",
       "      <th>ESDEVENIMENT</th>\n",
       "      <th>PAUTA</th>\n",
       "      <th>RECOMPTE</th>\n",
       "    </tr>\n",
       "  </thead>\n",
       "  <tbody>\n",
       "    <tr>\n",
       "      <th>17538</th>\n",
       "      <td>2022-01-12</td>\n",
       "      <td>80 o més</td>\n",
       "      <td>Hospitalització</td>\n",
       "      <td>Parcial</td>\n",
       "      <td>1</td>\n",
       "    </tr>\n",
       "    <tr>\n",
       "      <th>17539</th>\n",
       "      <td>2022-01-12</td>\n",
       "      <td>No classificat</td>\n",
       "      <td>Cas</td>\n",
       "      <td>Completa</td>\n",
       "      <td>28</td>\n",
       "    </tr>\n",
       "    <tr>\n",
       "      <th>17540</th>\n",
       "      <td>2022-01-12</td>\n",
       "      <td>No classificat</td>\n",
       "      <td>Cas</td>\n",
       "      <td>No iniciada</td>\n",
       "      <td>193</td>\n",
       "    </tr>\n",
       "    <tr>\n",
       "      <th>17541</th>\n",
       "      <td>2022-01-12</td>\n",
       "      <td>No classificat</td>\n",
       "      <td>Cas</td>\n",
       "      <td>Parcial</td>\n",
       "      <td>10</td>\n",
       "    </tr>\n",
       "    <tr>\n",
       "      <th>17542</th>\n",
       "      <td>2022-01-12</td>\n",
       "      <td>No classificat</td>\n",
       "      <td>Hospitalització</td>\n",
       "      <td>No iniciada</td>\n",
       "      <td>2</td>\n",
       "    </tr>\n",
       "  </tbody>\n",
       "</table>\n",
       "</div>"
      ],
      "text/plain": [
       "            DATA            EDAT     ESDEVENIMENT        PAUTA  RECOMPTE\n",
       "17538 2022-01-12        80 o més  Hospitalització      Parcial         1\n",
       "17539 2022-01-12  No classificat              Cas     Completa        28\n",
       "17540 2022-01-12  No classificat              Cas  No iniciada       193\n",
       "17541 2022-01-12  No classificat              Cas      Parcial        10\n",
       "17542 2022-01-12  No classificat  Hospitalització  No iniciada         2"
      ]
     },
     "execution_count": 74,
     "metadata": {},
     "output_type": "execute_result"
    }
   ],
   "source": [
    "df_unisex = df_unisex.reset_index()\n",
    "df_unisex.tail()"
   ]
  },
  {
   "cell_type": "markdown",
   "id": "1e378ccb",
   "metadata": {},
   "source": [
    "Usarem els casos registrats a Catalunya entre el 10 d'Octubre i el 10 de desembre on la variant delta era la majoritària."
   ]
  },
  {
   "cell_type": "raw",
   "id": "e50e627c",
   "metadata": {},
   "source": []
  },
  {
   "cell_type": "code",
   "execution_count": null,
   "id": "8b4478c9",
   "metadata": {},
   "outputs": [],
   "source": []
  }
 ],
 "metadata": {
  "kernelspec": {
   "display_name": "Python 3 (ipykernel)",
   "language": "python",
   "name": "python3"
  },
  "language_info": {
   "codemirror_mode": {
    "name": "ipython",
    "version": 3
   },
   "file_extension": ".py",
   "mimetype": "text/x-python",
   "name": "python",
   "nbconvert_exporter": "python",
   "pygments_lexer": "ipython3",
   "version": "3.8.10"
  }
 },
 "nbformat": 4,
 "nbformat_minor": 5
}
