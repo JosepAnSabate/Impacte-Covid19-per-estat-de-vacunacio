{
 "cells": [
  {
   "cell_type": "code",
   "execution_count": 1,
   "id": "4244155e",
   "metadata": {},
   "outputs": [],
   "source": [
    "import pandas as pd\n",
    "import os\n",
    "from datetime import datetime"
   ]
  },
  {
   "cell_type": "markdown",
   "id": "804173e2",
   "metadata": {},
   "source": [
    "[https://dadescovid.cat/documentacio](https://dadescovid.cat/documentacio)\n",
    "\n",
    "Aquestes dades provenen de diversos sistemes d'informació del Departament de Salut i del Servei Català de la Salut, detallats a https://dadescovid.cat/documentacio , i mostren, per a la data de referencia de cada registre, per sexe, per grup d'edat i per a tot Catalunya, des de l'inici de la campanya de vacunació, l'1 de gener de 2021, l'impacte del COVID-19 (nous casos, hospitalitzacions, hospitalitzacions en crítics i defuncions) segons l'estat de vacunació de les persones afectades.\n",
    "\n",
    "Cal tenir en compte que una mateixa persona està comptada tantes vegades com esdeveniments pels quals hagi passat.\n",
    "\n",
    "### Cal tenir en compte que una mateixa persona està comptada tantes vegades com esdeveniments pels quals hagi passat.\n",
    "\n",
    "### Usem els casos COVID-19 confirmats per PCR/TAR per al seguiment epidemiològic\n",
    "Primer de tot, els casos de COVID-19 confirmats per fer un seguiment epidemiològic són exclusivament els confirmats per PCR/TAR, ja que la PCR/TAR+ ens indica que és un cas actiu i pel seguiment epidemiològic és important la data en què s’inicia el cas.\n",
    "\n",
    "### Hem de diferenciar el seguiment segons si la població és general o de residència\n",
    "I en tercer lloc és important diferenciar dues poblacions, la general i la de residències, ja que el seu comportament epidemiològic és totalment diferent, com es va poder veure en la primera onada. Per una banda, la població general viu en la comunitat i es relaciona i mou d’una determinada manera; les persones ingressades en residències geriàtriques, viuen en comunitats molt tancades i en llocs molt tancats i la seva mobilitat és molt reduïda. Donades aquestes característiques, no es pot fer el seguiment epidemiològic conjunt de les dues poblacions i és per això que a la web presentem les dades separades."
   ]
  },
  {
   "cell_type": "code",
   "execution_count": 2,
   "id": "36d858d6",
   "metadata": {},
   "outputs": [],
   "source": [
    "# handlig dates\n",
    "dateparse = lambda x: datetime.strptime(x, '%d/%m/%Y')"
   ]
  },
  {
   "cell_type": "code",
   "execution_count": 3,
   "id": "e7b92c6a",
   "metadata": {},
   "outputs": [],
   "source": [
    "filepath = 'C:/Users/34639/wa/impacte_covid_per_estat_vacunacio/dades/impacte_covid_vacunacio.csv'"
   ]
  },
  {
   "cell_type": "code",
   "execution_count": 4,
   "id": "fe59dc6e",
   "metadata": {
    "scrolled": false
   },
   "outputs": [
    {
     "data": {
      "text/html": [
       "<div>\n",
       "<style scoped>\n",
       "    .dataframe tbody tr th:only-of-type {\n",
       "        vertical-align: middle;\n",
       "    }\n",
       "\n",
       "    .dataframe tbody tr th {\n",
       "        vertical-align: top;\n",
       "    }\n",
       "\n",
       "    .dataframe thead th {\n",
       "        text-align: right;\n",
       "    }\n",
       "</style>\n",
       "<table border=\"1\" class=\"dataframe\">\n",
       "  <thead>\n",
       "    <tr style=\"text-align: right;\">\n",
       "      <th></th>\n",
       "      <th>SEXE</th>\n",
       "      <th>EDAT</th>\n",
       "      <th>DATA</th>\n",
       "      <th>ESDEVENIMENT</th>\n",
       "      <th>PAUTA</th>\n",
       "      <th>RECOMPTE</th>\n",
       "    </tr>\n",
       "  </thead>\n",
       "  <tbody>\n",
       "    <tr>\n",
       "      <th>0</th>\n",
       "      <td>Dona</td>\n",
       "      <td>0 a 9</td>\n",
       "      <td>2022-01-12</td>\n",
       "      <td>Cas</td>\n",
       "      <td>Parcial</td>\n",
       "      <td>107</td>\n",
       "    </tr>\n",
       "    <tr>\n",
       "      <th>1</th>\n",
       "      <td>Dona</td>\n",
       "      <td>0 a 9</td>\n",
       "      <td>2022-01-12</td>\n",
       "      <td>Cas</td>\n",
       "      <td>No iniciada</td>\n",
       "      <td>784</td>\n",
       "    </tr>\n",
       "    <tr>\n",
       "      <th>2</th>\n",
       "      <td>Home</td>\n",
       "      <td>0 a 9</td>\n",
       "      <td>2022-01-12</td>\n",
       "      <td>Cas</td>\n",
       "      <td>No iniciada</td>\n",
       "      <td>865</td>\n",
       "    </tr>\n",
       "    <tr>\n",
       "      <th>3</th>\n",
       "      <td>Home</td>\n",
       "      <td>0 a 9</td>\n",
       "      <td>2022-01-12</td>\n",
       "      <td>Cas</td>\n",
       "      <td>Parcial</td>\n",
       "      <td>126</td>\n",
       "    </tr>\n",
       "    <tr>\n",
       "      <th>4</th>\n",
       "      <td>Home</td>\n",
       "      <td>0 a 9</td>\n",
       "      <td>2022-01-12</td>\n",
       "      <td>Hospitalització</td>\n",
       "      <td>No iniciada</td>\n",
       "      <td>2</td>\n",
       "    </tr>\n",
       "  </tbody>\n",
       "</table>\n",
       "</div>"
      ],
      "text/plain": [
       "   SEXE   EDAT       DATA     ESDEVENIMENT        PAUTA  RECOMPTE\n",
       "0  Dona  0 a 9 2022-01-12              Cas      Parcial       107\n",
       "1  Dona  0 a 9 2022-01-12              Cas  No iniciada       784\n",
       "2  Home  0 a 9 2022-01-12              Cas  No iniciada       865\n",
       "3  Home  0 a 9 2022-01-12              Cas      Parcial       126\n",
       "4  Home  0 a 9 2022-01-12  Hospitalització  No iniciada         2"
      ]
     },
     "execution_count": 4,
     "metadata": {},
     "output_type": "execute_result"
    }
   ],
   "source": [
    "df = pd.read_csv(filepath,parse_dates=['DATA'], date_parser=dateparse)\n",
    "df.head(5)"
   ]
  },
  {
   "cell_type": "code",
   "execution_count": 5,
   "id": "df903c8c",
   "metadata": {},
   "outputs": [
    {
     "data": {
      "text/plain": [
       "Cas                14764\n",
       "Hospitalització     8030\n",
       "Crítics             3566\n",
       "Defunció            2423\n",
       "Name: ESDEVENIMENT, dtype: int64"
      ]
     },
     "execution_count": 5,
     "metadata": {},
     "output_type": "execute_result"
    }
   ],
   "source": [
    "df['ESDEVENIMENT'].value_counts()"
   ]
  },
  {
   "cell_type": "code",
   "execution_count": 6,
   "id": "9130aca1",
   "metadata": {},
   "outputs": [
    {
     "name": "stdout",
     "output_type": "stream",
     "text": [
      "<class 'pandas.core.frame.DataFrame'>\n",
      "RangeIndex: 28783 entries, 0 to 28782\n",
      "Data columns (total 6 columns):\n",
      " #   Column        Non-Null Count  Dtype         \n",
      "---  ------        --------------  -----         \n",
      " 0   SEXE          28783 non-null  object        \n",
      " 1   EDAT          28783 non-null  object        \n",
      " 2   DATA          28783 non-null  datetime64[ns]\n",
      " 3   ESDEVENIMENT  28783 non-null  object        \n",
      " 4   PAUTA         28783 non-null  object        \n",
      " 5   RECOMPTE      28783 non-null  int64         \n",
      "dtypes: datetime64[ns](1), int64(1), object(4)\n",
      "memory usage: 1.3+ MB\n"
     ]
    }
   ],
   "source": [
    "df.info()"
   ]
  },
  {
   "cell_type": "code",
   "execution_count": 7,
   "id": "49edd198",
   "metadata": {},
   "outputs": [
    {
     "data": {
      "text/plain": [
       "(28783, 6)"
      ]
     },
     "execution_count": 7,
     "metadata": {},
     "output_type": "execute_result"
    }
   ],
   "source": [
    "df.shape"
   ]
  },
  {
   "cell_type": "code",
   "execution_count": 8,
   "id": "0862ff8b",
   "metadata": {},
   "outputs": [],
   "source": [
    "# sum homes and dones\n",
    "df_unisex = df.groupby([ \"DATA\", \"EDAT\", \"ESDEVENIMENT\", \"PAUTA\"])[[\"RECOMPTE\"]].sum() "
   ]
  },
  {
   "cell_type": "code",
   "execution_count": 9,
   "id": "d91df058",
   "metadata": {},
   "outputs": [
    {
     "data": {
      "text/html": [
       "<div>\n",
       "<style scoped>\n",
       "    .dataframe tbody tr th:only-of-type {\n",
       "        vertical-align: middle;\n",
       "    }\n",
       "\n",
       "    .dataframe tbody tr th {\n",
       "        vertical-align: top;\n",
       "    }\n",
       "\n",
       "    .dataframe thead th {\n",
       "        text-align: right;\n",
       "    }\n",
       "</style>\n",
       "<table border=\"1\" class=\"dataframe\">\n",
       "  <thead>\n",
       "    <tr style=\"text-align: right;\">\n",
       "      <th></th>\n",
       "      <th></th>\n",
       "      <th></th>\n",
       "      <th></th>\n",
       "      <th>RECOMPTE</th>\n",
       "    </tr>\n",
       "    <tr>\n",
       "      <th>DATA</th>\n",
       "      <th>EDAT</th>\n",
       "      <th>ESDEVENIMENT</th>\n",
       "      <th>PAUTA</th>\n",
       "      <th></th>\n",
       "    </tr>\n",
       "  </thead>\n",
       "  <tbody>\n",
       "    <tr>\n",
       "      <th rowspan=\"25\" valign=\"top\">2021-01-01</th>\n",
       "      <th>0 a 9</th>\n",
       "      <th>Cas</th>\n",
       "      <th>No iniciada</th>\n",
       "      <td>57</td>\n",
       "    </tr>\n",
       "    <tr>\n",
       "      <th>10 a 19</th>\n",
       "      <th>Cas</th>\n",
       "      <th>No iniciada</th>\n",
       "      <td>115</td>\n",
       "    </tr>\n",
       "    <tr>\n",
       "      <th rowspan=\"2\" valign=\"top\">20 a 29</th>\n",
       "      <th>Cas</th>\n",
       "      <th>No iniciada</th>\n",
       "      <td>157</td>\n",
       "    </tr>\n",
       "    <tr>\n",
       "      <th>Hospitalització</th>\n",
       "      <th>No iniciada</th>\n",
       "      <td>2</td>\n",
       "    </tr>\n",
       "    <tr>\n",
       "      <th rowspan=\"3\" valign=\"top\">30 a 39</th>\n",
       "      <th>Cas</th>\n",
       "      <th>No iniciada</th>\n",
       "      <td>184</td>\n",
       "    </tr>\n",
       "    <tr>\n",
       "      <th>Crítics</th>\n",
       "      <th>No iniciada</th>\n",
       "      <td>1</td>\n",
       "    </tr>\n",
       "    <tr>\n",
       "      <th>Hospitalització</th>\n",
       "      <th>No iniciada</th>\n",
       "      <td>7</td>\n",
       "    </tr>\n",
       "    <tr>\n",
       "      <th rowspan=\"3\" valign=\"top\">40 a 49</th>\n",
       "      <th>Cas</th>\n",
       "      <th>No iniciada</th>\n",
       "      <td>237</td>\n",
       "    </tr>\n",
       "    <tr>\n",
       "      <th>Crítics</th>\n",
       "      <th>No iniciada</th>\n",
       "      <td>1</td>\n",
       "    </tr>\n",
       "    <tr>\n",
       "      <th>Hospitalització</th>\n",
       "      <th>No iniciada</th>\n",
       "      <td>15</td>\n",
       "    </tr>\n",
       "    <tr>\n",
       "      <th rowspan=\"4\" valign=\"top\">50 a 59</th>\n",
       "      <th>Cas</th>\n",
       "      <th>No iniciada</th>\n",
       "      <td>231</td>\n",
       "    </tr>\n",
       "    <tr>\n",
       "      <th>Crítics</th>\n",
       "      <th>No iniciada</th>\n",
       "      <td>3</td>\n",
       "    </tr>\n",
       "    <tr>\n",
       "      <th>Defunció</th>\n",
       "      <th>No iniciada</th>\n",
       "      <td>1</td>\n",
       "    </tr>\n",
       "    <tr>\n",
       "      <th>Hospitalització</th>\n",
       "      <th>No iniciada</th>\n",
       "      <td>29</td>\n",
       "    </tr>\n",
       "    <tr>\n",
       "      <th rowspan=\"4\" valign=\"top\">60 a 69</th>\n",
       "      <th>Cas</th>\n",
       "      <th>No iniciada</th>\n",
       "      <td>119</td>\n",
       "    </tr>\n",
       "    <tr>\n",
       "      <th>Crítics</th>\n",
       "      <th>No iniciada</th>\n",
       "      <td>6</td>\n",
       "    </tr>\n",
       "    <tr>\n",
       "      <th>Defunció</th>\n",
       "      <th>No iniciada</th>\n",
       "      <td>7</td>\n",
       "    </tr>\n",
       "    <tr>\n",
       "      <th>Hospitalització</th>\n",
       "      <th>No iniciada</th>\n",
       "      <td>29</td>\n",
       "    </tr>\n",
       "    <tr>\n",
       "      <th rowspan=\"4\" valign=\"top\">70 a 79</th>\n",
       "      <th>Cas</th>\n",
       "      <th>No iniciada</th>\n",
       "      <td>66</td>\n",
       "    </tr>\n",
       "    <tr>\n",
       "      <th>Crítics</th>\n",
       "      <th>No iniciada</th>\n",
       "      <td>4</td>\n",
       "    </tr>\n",
       "    <tr>\n",
       "      <th>Defunció</th>\n",
       "      <th>No iniciada</th>\n",
       "      <td>8</td>\n",
       "    </tr>\n",
       "    <tr>\n",
       "      <th>Hospitalització</th>\n",
       "      <th>No iniciada</th>\n",
       "      <td>27</td>\n",
       "    </tr>\n",
       "    <tr>\n",
       "      <th rowspan=\"3\" valign=\"top\">80 o més</th>\n",
       "      <th>Cas</th>\n",
       "      <th>No iniciada</th>\n",
       "      <td>94</td>\n",
       "    </tr>\n",
       "    <tr>\n",
       "      <th>Crítics</th>\n",
       "      <th>No iniciada</th>\n",
       "      <td>2</td>\n",
       "    </tr>\n",
       "    <tr>\n",
       "      <th>Defunció</th>\n",
       "      <th>No iniciada</th>\n",
       "      <td>33</td>\n",
       "    </tr>\n",
       "  </tbody>\n",
       "</table>\n",
       "</div>"
      ],
      "text/plain": [
       "                                                 RECOMPTE\n",
       "DATA       EDAT     ESDEVENIMENT    PAUTA                \n",
       "2021-01-01 0 a 9    Cas             No iniciada        57\n",
       "           10 a 19  Cas             No iniciada       115\n",
       "           20 a 29  Cas             No iniciada       157\n",
       "                    Hospitalització No iniciada         2\n",
       "           30 a 39  Cas             No iniciada       184\n",
       "                    Crítics         No iniciada         1\n",
       "                    Hospitalització No iniciada         7\n",
       "           40 a 49  Cas             No iniciada       237\n",
       "                    Crítics         No iniciada         1\n",
       "                    Hospitalització No iniciada        15\n",
       "           50 a 59  Cas             No iniciada       231\n",
       "                    Crítics         No iniciada         3\n",
       "                    Defunció        No iniciada         1\n",
       "                    Hospitalització No iniciada        29\n",
       "           60 a 69  Cas             No iniciada       119\n",
       "                    Crítics         No iniciada         6\n",
       "                    Defunció        No iniciada         7\n",
       "                    Hospitalització No iniciada        29\n",
       "           70 a 79  Cas             No iniciada        66\n",
       "                    Crítics         No iniciada         4\n",
       "                    Defunció        No iniciada         8\n",
       "                    Hospitalització No iniciada        27\n",
       "           80 o més Cas             No iniciada        94\n",
       "                    Crítics         No iniciada         2\n",
       "                    Defunció        No iniciada        33"
      ]
     },
     "execution_count": 9,
     "metadata": {},
     "output_type": "execute_result"
    }
   ],
   "source": [
    "df_unisex.head(25)"
   ]
  },
  {
   "cell_type": "markdown",
   "id": "8136ff44",
   "metadata": {},
   "source": [
    "Usarem els casos registrats a Catalunya entre el 10 d'Octubre i el 10 de desembre on la variant delta era la majoritària."
   ]
  },
  {
   "cell_type": "markdown",
   "id": "79af1690",
   "metadata": {},
   "source": [
    "Utilitzarem el [número de persones vacunades al 10 de novembre segons grup d'edat](https://analisi.transparenciacatalunya.cat/Salut/Vacunaci-per-al-COVID-19-dosis-administrades-per-r/tp23-dey4/data) i el [número total de persones per grups d'edat de l de gener](https://www.idescat.cat/pub/?id=aec&n=253) per a normalitzar."
   ]
  },
  {
   "cell_type": "code",
   "execution_count": 10,
   "id": "37965ea4",
   "metadata": {},
   "outputs": [
    {
     "data": {
      "text/html": [
       "<div>\n",
       "<style scoped>\n",
       "    .dataframe tbody tr th:only-of-type {\n",
       "        vertical-align: middle;\n",
       "    }\n",
       "\n",
       "    .dataframe tbody tr th {\n",
       "        vertical-align: top;\n",
       "    }\n",
       "\n",
       "    .dataframe thead th {\n",
       "        text-align: right;\n",
       "    }\n",
       "</style>\n",
       "<table border=\"1\" class=\"dataframe\">\n",
       "  <thead>\n",
       "    <tr style=\"text-align: right;\">\n",
       "      <th></th>\n",
       "      <th></th>\n",
       "      <th></th>\n",
       "      <th></th>\n",
       "      <th>RECOMPTE</th>\n",
       "    </tr>\n",
       "    <tr>\n",
       "      <th>DATA</th>\n",
       "      <th>EDAT</th>\n",
       "      <th>ESDEVENIMENT</th>\n",
       "      <th>PAUTA</th>\n",
       "      <th></th>\n",
       "    </tr>\n",
       "  </thead>\n",
       "  <tbody>\n",
       "    <tr>\n",
       "      <th rowspan=\"5\" valign=\"top\">2021-10-10</th>\n",
       "      <th>0 a 9</th>\n",
       "      <th>Cas</th>\n",
       "      <th>No iniciada</th>\n",
       "      <td>6</td>\n",
       "    </tr>\n",
       "    <tr>\n",
       "      <th rowspan=\"2\" valign=\"top\">10 a 19</th>\n",
       "      <th rowspan=\"2\" valign=\"top\">Cas</th>\n",
       "      <th>Completa</th>\n",
       "      <td>5</td>\n",
       "    </tr>\n",
       "    <tr>\n",
       "      <th>No iniciada</th>\n",
       "      <td>6</td>\n",
       "    </tr>\n",
       "    <tr>\n",
       "      <th rowspan=\"2\" valign=\"top\">20 a 29</th>\n",
       "      <th rowspan=\"2\" valign=\"top\">Cas</th>\n",
       "      <th>Completa</th>\n",
       "      <td>3</td>\n",
       "    </tr>\n",
       "    <tr>\n",
       "      <th>No iniciada</th>\n",
       "      <td>4</td>\n",
       "    </tr>\n",
       "  </tbody>\n",
       "</table>\n",
       "</div>"
      ],
      "text/plain": [
       "                                             RECOMPTE\n",
       "DATA       EDAT    ESDEVENIMENT PAUTA                \n",
       "2021-10-10 0 a 9   Cas          No iniciada         6\n",
       "           10 a 19 Cas          Completa            5\n",
       "                                No iniciada         6\n",
       "           20 a 29 Cas          Completa            3\n",
       "                                No iniciada         4"
      ]
     },
     "execution_count": 10,
     "metadata": {},
     "output_type": "execute_result"
    }
   ],
   "source": [
    "# Subset Pandas Dataframe Using Range of Dates\n",
    "#df[\"begin_index_date\" : \"end_index_date]['2005-05-01':'2005-08-31']\n",
    "\n",
    "df_unisex_targ_date = df_unisex['2021-10-10':'2021-12-10']\n",
    "df_unisex_targ_date.head()"
   ]
  },
  {
   "cell_type": "code",
   "execution_count": 11,
   "id": "2fa6828b",
   "metadata": {},
   "outputs": [
    {
     "data": {
      "text/html": [
       "<div>\n",
       "<style scoped>\n",
       "    .dataframe tbody tr th:only-of-type {\n",
       "        vertical-align: middle;\n",
       "    }\n",
       "\n",
       "    .dataframe tbody tr th {\n",
       "        vertical-align: top;\n",
       "    }\n",
       "\n",
       "    .dataframe thead th {\n",
       "        text-align: right;\n",
       "    }\n",
       "</style>\n",
       "<table border=\"1\" class=\"dataframe\">\n",
       "  <thead>\n",
       "    <tr style=\"text-align: right;\">\n",
       "      <th></th>\n",
       "      <th>DATA</th>\n",
       "      <th>EDAT</th>\n",
       "      <th>ESDEVENIMENT</th>\n",
       "      <th>PAUTA</th>\n",
       "      <th>RECOMPTE</th>\n",
       "    </tr>\n",
       "  </thead>\n",
       "  <tbody>\n",
       "    <tr>\n",
       "      <th>2542</th>\n",
       "      <td>2021-12-10</td>\n",
       "      <td>80 o més</td>\n",
       "      <td>Defunció</td>\n",
       "      <td>No iniciada</td>\n",
       "      <td>3</td>\n",
       "    </tr>\n",
       "    <tr>\n",
       "      <th>2543</th>\n",
       "      <td>2021-12-10</td>\n",
       "      <td>80 o més</td>\n",
       "      <td>Hospitalització</td>\n",
       "      <td>Completa</td>\n",
       "      <td>33</td>\n",
       "    </tr>\n",
       "    <tr>\n",
       "      <th>2544</th>\n",
       "      <td>2021-12-10</td>\n",
       "      <td>80 o més</td>\n",
       "      <td>Hospitalització</td>\n",
       "      <td>No iniciada</td>\n",
       "      <td>5</td>\n",
       "    </tr>\n",
       "    <tr>\n",
       "      <th>2545</th>\n",
       "      <td>2021-12-10</td>\n",
       "      <td>No classificat</td>\n",
       "      <td>Cas</td>\n",
       "      <td>Completa</td>\n",
       "      <td>7</td>\n",
       "    </tr>\n",
       "    <tr>\n",
       "      <th>2546</th>\n",
       "      <td>2021-12-10</td>\n",
       "      <td>No classificat</td>\n",
       "      <td>Cas</td>\n",
       "      <td>No iniciada</td>\n",
       "      <td>126</td>\n",
       "    </tr>\n",
       "  </tbody>\n",
       "</table>\n",
       "</div>"
      ],
      "text/plain": [
       "           DATA            EDAT     ESDEVENIMENT        PAUTA  RECOMPTE\n",
       "2542 2021-12-10        80 o més         Defunció  No iniciada         3\n",
       "2543 2021-12-10        80 o més  Hospitalització     Completa        33\n",
       "2544 2021-12-10        80 o més  Hospitalització  No iniciada         5\n",
       "2545 2021-12-10  No classificat              Cas     Completa         7\n",
       "2546 2021-12-10  No classificat              Cas  No iniciada       126"
      ]
     },
     "execution_count": 11,
     "metadata": {},
     "output_type": "execute_result"
    }
   ],
   "source": [
    "df_unisex_targ_date = df_unisex_targ_date.reset_index()\n",
    "df_unisex_targ_date.tail()"
   ]
  },
  {
   "cell_type": "markdown",
   "id": "229ae8a3",
   "metadata": {},
   "source": [
    "### [Número de persones vacunades al 10 de novembre segons grup d'edat:](https://analisi.transparenciacatalunya.cat/Salut/Vacunaci-per-al-COVID-19-dosis-administrades-per-r/tp23-dey4/data)"
   ]
  },
  {
   "cell_type": "code",
   "execution_count": 12,
   "id": "085ba485",
   "metadata": {},
   "outputs": [],
   "source": [
    "path_vac = 'C:/capes_sql/vac_edats/vac_per_edats.csv'"
   ]
  },
  {
   "cell_type": "code",
   "execution_count": null,
   "id": "d34323db",
   "metadata": {},
   "outputs": [],
   "source": [
    "df_vac = pd.read_csv(path_vac, parse_dates=['DATA'], date_parser=dateparse, index_col= ['DATA'])"
   ]
  },
  {
   "cell_type": "code",
   "execution_count": null,
   "id": "5bfa3d00",
   "metadata": {},
   "outputs": [],
   "source": [
    "df_vac.head(5)"
   ]
  },
  {
   "cell_type": "code",
   "execution_count": null,
   "id": "178105db",
   "metadata": {},
   "outputs": [],
   "source": [
    "df_vac_grouped = df_vac.groupby([ \"DATA\",  \"DOSI\", \"EDAT\"])[[\"RECOMPTE\"]].sum() "
   ]
  },
  {
   "cell_type": "code",
   "execution_count": null,
   "id": "032f8761",
   "metadata": {},
   "outputs": [],
   "source": [
    "df_vac_grouped.head()"
   ]
  },
  {
   "cell_type": "code",
   "execution_count": null,
   "id": "bb83c744",
   "metadata": {},
   "outputs": [],
   "source": [
    "# Check min value of index \n",
    "print(df_vac.index.min())\n",
    "\n",
    "# Check max value of index \n",
    "print(df_vac.index.max())"
   ]
  },
  {
   "cell_type": "code",
   "execution_count": null,
   "id": "237232a8",
   "metadata": {},
   "outputs": [],
   "source": [
    "df_vac_dates = df_vac_grouped['2020-12-27':'2021-11-10'] # 10 d'Octubre"
   ]
  },
  {
   "cell_type": "code",
   "execution_count": null,
   "id": "df452a5c",
   "metadata": {},
   "outputs": [],
   "source": [
    "df_vac_dates.tail(30)"
   ]
  },
  {
   "cell_type": "markdown",
   "id": "85c581bd",
   "metadata": {},
   "source": [
    "Els grups de població per edats donades les dades seran:\n"
   ]
  },
  {
   "cell_type": "markdown",
   "id": "9253d685",
   "metadata": {},
   "source": [
    "0,19\n",
    "\n",
    "20,29\n",
    "\n",
    "30,39\n",
    "\n",
    "40,49\n",
    "\n",
    "50,59\n",
    "\n",
    "60,69\n",
    "\n",
    "70,79\n",
    "\n",
    "80 o més"
   ]
  },
  {
   "cell_type": "markdown",
   "id": "615c6b7f",
   "metadata": {},
   "source": [
    "### Per tant anem a fer les agrupacions per edat correctes pels dos datasets."
   ]
  },
  {
   "cell_type": "code",
   "execution_count": null,
   "id": "633a4b0a",
   "metadata": {},
   "outputs": [],
   "source": [
    "df_unisex_targ_date.head(6)"
   ]
  },
  {
   "cell_type": "code",
   "execution_count": null,
   "id": "fd8a3913",
   "metadata": {},
   "outputs": [],
   "source": [
    "#gettting rows on a specific condition\n",
    "df_unisex_targ_date.loc[df_unisex_targ_date['EDAT'] == \"0 a 9\"]"
   ]
  },
  {
   "cell_type": "code",
   "execution_count": null,
   "id": "93330d48",
   "metadata": {},
   "outputs": [],
   "source": [
    "#gettting rows on a specific condition\n",
    "df_unisex_targ_date.loc[df_unisex_targ_date['EDAT']  == \"10 a 19\"]"
   ]
  },
  {
   "cell_type": "markdown",
   "id": "7e514510",
   "metadata": {},
   "source": [
    "### We want to change the ranges of edat 0 a 9 and 10 to 19 to 0 a 19 and sum the equalls fields."
   ]
  },
  {
   "cell_type": "markdown",
   "id": "8e0727ab",
   "metadata": {},
   "source": [
    "What is regex true in pandas?\n",
    "\n",
    "Regular expressions (regex) are essentially text patterns that you can use to automate searching through and replacing elements within strings of text"
   ]
  },
  {
   "cell_type": "code",
   "execution_count": null,
   "id": "1bf7c8c1",
   "metadata": {},
   "outputs": [],
   "source": [
    "df_unisex_targ_date['EDAT'] = df_unisex_targ_date['EDAT'].str.replace(r'(0 a 9|10 a 19)', '0 a 19', regex=True)"
   ]
  },
  {
   "cell_type": "code",
   "execution_count": null,
   "id": "687c4eca",
   "metadata": {},
   "outputs": [],
   "source": [
    "df_unisex_targ_date"
   ]
  },
  {
   "cell_type": "code",
   "execution_count": null,
   "id": "e8a65094",
   "metadata": {},
   "outputs": [],
   "source": [
    "# grupby for summing the equals fields\n",
    "df_unisex_date_age_prov = df_unisex_targ_date.groupby([ \"DATA\", \"EDAT\", \"ESDEVENIMENT\", \"PAUTA\"])[[\"RECOMPTE\"]].sum() "
   ]
  },
  {
   "cell_type": "code",
   "execution_count": null,
   "id": "8029412d",
   "metadata": {},
   "outputs": [],
   "source": [
    "df_unisex_date_age = df_unisex_date_age_prov.reset_index()\n",
    "df_unisex_date_age"
   ]
  },
  {
   "cell_type": "markdown",
   "id": "ed37dced",
   "metadata": {},
   "source": [
    "## Next we will procede changing the age ranges to the vaccination dataset."
   ]
  },
  {
   "cell_type": "code",
   "execution_count": null,
   "id": "2262763e",
   "metadata": {},
   "outputs": [],
   "source": [
    "df_vac_dates.tail(20)"
   ]
  },
  {
   "cell_type": "code",
   "execution_count": null,
   "id": "5d3def4d",
   "metadata": {},
   "outputs": [],
   "source": [
    "df_vac_dates_prov = df_vac_dates.reset_index()\n",
    "df_vac_dates_prov.tail(5)"
   ]
  },
  {
   "cell_type": "code",
   "execution_count": null,
   "id": "5f8c29b7",
   "metadata": {},
   "outputs": [],
   "source": [
    "df_vac_dates_edat_prov = df_vac_dates_prov.groupby([ \"EDAT\", \"DOSI\"])[[\"RECOMPTE\"]].sum().reset_index()"
   ]
  },
  {
   "cell_type": "code",
   "execution_count": null,
   "id": "887f8836",
   "metadata": {},
   "outputs": [],
   "source": [
    "df_vac_dates_edat_prov.head(6)"
   ]
  },
  {
   "cell_type": "code",
   "execution_count": null,
   "id": "67252637",
   "metadata": {},
   "outputs": [],
   "source": [
    "# redoing the range of ages\n",
    "df_vac_dates_edat_prov['EDAT'] = df_vac_dates_edat_prov['EDAT'].str.replace(r'(0 a 11|12 a 14|15 a 19)', '0 a 19', regex=True)\n",
    "df_vac_dates_edat_prov['EDAT'] = df_vac_dates_edat_prov['EDAT'].str.replace(r'(20 a 24|25 a 29)', '20 a 29', regex=True)\n",
    "df_vac_dates_edat_prov['EDAT'] = df_vac_dates_edat_prov['EDAT'].str.replace(r'(30 a 34|35 a 39)', '30 a 39', regex=True)\n",
    "df_vac_dates_edat_prov['EDAT'] = df_vac_dates_edat_prov['EDAT'].str.replace(r'(40 a 44|45 a 49)', '40 a 49', regex=True)\n",
    "df_vac_dates_edat_prov['EDAT'] = df_vac_dates_edat_prov['EDAT'].str.replace(r'(50 a 54|55 a 59)', '50 a 59', regex=True)\n",
    "df_vac_dates_edat_prov['EDAT'] = df_vac_dates_edat_prov['EDAT'].str.replace(r'(60 a 64|65 a 69)', '60 a 69', regex=True)\n",
    "df_vac_dates_edat_prov['EDAT'] = df_vac_dates_edat_prov['EDAT'].str.replace(r'(70 a 74|75 a 79)', '70 a 79', regex=True)"
   ]
  },
  {
   "cell_type": "code",
   "execution_count": null,
   "id": "c1d68bfb",
   "metadata": {},
   "outputs": [],
   "source": [
    "df_vac_dates_edat_prov.head(6)"
   ]
  },
  {
   "cell_type": "code",
   "execution_count": null,
   "id": "ee7d7a61",
   "metadata": {},
   "outputs": [],
   "source": [
    "df_vac_dates_edat = df_vac_dates_edat_prov.groupby([\"EDAT\", \"DOSI\"])[[\"RECOMPTE\"]].sum().reset_index()"
   ]
  },
  {
   "cell_type": "code",
   "execution_count": null,
   "id": "e6e48391",
   "metadata": {},
   "outputs": [],
   "source": [
    "df_vac_dates_edat"
   ]
  },
  {
   "cell_type": "markdown",
   "id": "fad45fd3",
   "metadata": {},
   "source": [
    "### Per a poder normalitzar només falta la població total:"
   ]
  },
  {
   "cell_type": "code",
   "execution_count": null,
   "id": "d873dcba",
   "metadata": {},
   "outputs": [],
   "source": [
    "path_edats = 'C:/Users/34639/wa/impacte_covid_per_estat_vacunacio/dades/edats.csv'"
   ]
  },
  {
   "cell_type": "code",
   "execution_count": null,
   "id": "37d8ef8d",
   "metadata": {},
   "outputs": [],
   "source": [
    "df_edat_prov =  pd.read_csv(path_edats, thousands='.')"
   ]
  },
  {
   "cell_type": "code",
   "execution_count": null,
   "id": "b618e2a7",
   "metadata": {},
   "outputs": [],
   "source": [
    "df_edat_prov"
   ]
  },
  {
   "cell_type": "code",
   "execution_count": null,
   "id": "66c69a61",
   "metadata": {},
   "outputs": [],
   "source": [
    "# rename col\n",
    "df_edat_prov.rename(columns={'Unnamed: 0': 'EDAT'}, inplace=True)"
   ]
  },
  {
   "cell_type": "code",
   "execution_count": null,
   "id": "44d55d83",
   "metadata": {},
   "outputs": [],
   "source": [
    "df_edat_prov['EDAT'] = df_edat_prov['EDAT'].str.replace(r'(De 0 a 4 anys|De 5 a 9 anys|De 10 a 14 anys|De 15 a 19 anys)', '0 a 19', regex=True)\n",
    "df_edat_prov['EDAT'] = df_edat_prov['EDAT'].str.replace(r'(De 20 a 24 anys|De 25 a 29 anys)', '20 a 29', regex=True)\n",
    "df_edat_prov['EDAT'] = df_edat_prov['EDAT'].str.replace(r'(De 30 a 34 anys|De 35 a 39 anys)', '30 a 39', regex=True)\n",
    "df_edat_prov['EDAT'] = df_edat_prov['EDAT'].str.replace(r'(De 40 a 44 anys|De 45 a 49 anys)', '40 a 49', regex=True)\n",
    "df_edat_prov['EDAT'] = df_edat_prov['EDAT'].str.replace(r'(De 50 a 54 anys|De 55 a 59 anys)', '50 a 59', regex=True)\n",
    "df_edat_prov['EDAT'] = df_edat_prov['EDAT'].str.replace(r'(De 60 a 64 anys|De 65 a 69 anys)', '60 a 69', regex=True)\n",
    "df_edat_prov['EDAT'] = df_edat_prov['EDAT'].str.replace(r'(De 70 a 74 anys|De 75 a 79 anys)', '70 a 79', regex=True)\n",
    "df_edat_prov['EDAT'] = df_edat_prov['EDAT'].str.replace(r'(De 80 a 84 anys|De 85 a 89 anys|De 90 a 94 anys|De 95 anys i més)', '80 o més', regex=True)"
   ]
  },
  {
   "cell_type": "code",
   "execution_count": null,
   "id": "653f2485",
   "metadata": {},
   "outputs": [],
   "source": [
    "df_edat_prov"
   ]
  },
  {
   "cell_type": "code",
   "execution_count": null,
   "id": "12007683",
   "metadata": {},
   "outputs": [],
   "source": [
    "df_edat = df_edat_prov.groupby([\"EDAT\"])[[\"Total\"]].sum().reset_index()"
   ]
  },
  {
   "cell_type": "code",
   "execution_count": null,
   "id": "177c40bb",
   "metadata": {},
   "outputs": [],
   "source": [
    "df_edat"
   ]
  },
  {
   "cell_type": "markdown",
   "id": "b5e10fc7",
   "metadata": {},
   "source": [
    "Arribats aquí ja tenim els tres datasets amb el rang d'edats corresponent."
   ]
  },
  {
   "cell_type": "markdown",
   "id": "8124739f",
   "metadata": {},
   "source": [
    "Anem a calcular els percentatges de població vacunada per cada rang d'edats."
   ]
  },
  {
   "cell_type": "code",
   "execution_count": null,
   "id": "8f75fd25",
   "metadata": {},
   "outputs": [],
   "source": [
    "df_vac_dates_edat.head()"
   ]
  },
  {
   "cell_type": "code",
   "execution_count": null,
   "id": "243451ed",
   "metadata": {},
   "outputs": [],
   "source": [
    "df_vac_dates_edat_m = pd.merge(df_vac_dates_edat, df_edat, how='left') # manté tots els registres del df de l'esquerra"
   ]
  },
  {
   "cell_type": "code",
   "execution_count": null,
   "id": "126a251f",
   "metadata": {},
   "outputs": [],
   "source": [
    "df_vac_dates_edat_m"
   ]
  },
  {
   "cell_type": "code",
   "execution_count": null,
   "id": "bfdd91e7",
   "metadata": {},
   "outputs": [],
   "source": [
    "df_vac_dates_edat_m['PERCENT'] = df_vac_dates_edat_m['RECOMPTE']/df_vac_dates_edat_m['Total']*100"
   ]
  },
  {
   "cell_type": "code",
   "execution_count": null,
   "id": "a5e8f43e",
   "metadata": {},
   "outputs": [],
   "source": [
    "df_vac_dates_edat_m"
   ]
  },
  {
   "cell_type": "code",
   "execution_count": null,
   "id": "519ef07d",
   "metadata": {},
   "outputs": [],
   "source": []
  }
 ],
 "metadata": {
  "kernelspec": {
   "display_name": "Python 3 (ipykernel)",
   "language": "python",
   "name": "python3"
  },
  "language_info": {
   "codemirror_mode": {
    "name": "ipython",
    "version": 3
   },
   "file_extension": ".py",
   "mimetype": "text/x-python",
   "name": "python",
   "nbconvert_exporter": "python",
   "pygments_lexer": "ipython3",
   "version": "3.8.10"
  }
 },
 "nbformat": 4,
 "nbformat_minor": 5
}
