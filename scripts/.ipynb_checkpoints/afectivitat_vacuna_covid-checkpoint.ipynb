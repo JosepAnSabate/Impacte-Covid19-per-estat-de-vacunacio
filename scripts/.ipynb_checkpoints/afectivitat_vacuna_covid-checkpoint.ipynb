{
 "cells": [
  {
   "cell_type": "code",
   "execution_count": null,
   "id": "1469fe5e",
   "metadata": {},
   "outputs": [],
   "source": [
    "import pandas as pd\n",
    "import os\n",
    "from datetime import datetime"
   ]
  },
  {
   "cell_type": "markdown",
   "id": "2affd94f",
   "metadata": {},
   "source": [
    "[https://dadescovid.cat/documentacio](https://dadescovid.cat/documentacio)\n",
    "\n",
    "Aquestes dades provenen de diversos sistemes d'informació del Departament de Salut i del Servei Català de la Salut, detallats a https://dadescovid.cat/documentacio , i mostren, per a la data de referencia de cada registre, per sexe, per grup d'edat i per a tot Catalunya, des de l'inici de la campanya de vacunació, l'1 de gener de 2021, l'impacte del COVID-19 (nous casos, hospitalitzacions, hospitalitzacions en crítics i defuncions) segons l'estat de vacunació de les persones afectades.\n",
    "\n",
    "Cal tenir en compte que una mateixa persona està comptada tantes vegades com esdeveniments pels quals hagi passat.\n",
    "\n",
    "### Cal tenir en compte que una mateixa persona està comptada tantes vegades com esdeveniments pels quals hagi passat.\n",
    "\n",
    "### Usem els casos COVID-19 confirmats per PCR/TAR per al seguiment epidemiològic\n",
    "Primer de tot, els casos de COVID-19 confirmats per fer un seguiment epidemiològic són exclusivament els confirmats per PCR/TAR, ja que la PCR/TAR+ ens indica que és un cas actiu i pel seguiment epidemiològic és important la data en què s’inicia el cas.\n",
    "\n",
    "### Hem de diferenciar el seguiment segons si la població és general o de residència\n",
    "I en tercer lloc és important diferenciar dues poblacions, la general i la de residències, ja que el seu comportament epidemiològic és totalment diferent, com es va poder veure en la primera onada. Per una banda, la població general viu en la comunitat i es relaciona i mou d’una determinada manera; les persones ingressades en residències geriàtriques, viuen en comunitats molt tancades i en llocs molt tancats i la seva mobilitat és molt reduïda. Donades aquestes característiques, no es pot fer el seguiment epidemiològic conjunt de les dues poblacions i és per això que a la web presentem les dades separades."
   ]
  },
  {
   "cell_type": "code",
   "execution_count": null,
   "id": "e4f26434",
   "metadata": {},
   "outputs": [],
   "source": [
    "# handlig dates\n",
    "dateparse = lambda x: datetime.strptime(x, '%d/%m/%Y')"
   ]
  },
  {
   "cell_type": "code",
   "execution_count": null,
   "id": "226b9bcd",
   "metadata": {},
   "outputs": [],
   "source": [
    "filepath = 'C:/Users/34639/wa/impacte_covid_per_estat_vacunacio/dades/impacte_covid_vacunacio.csv'"
   ]
  },
  {
   "cell_type": "code",
   "execution_count": null,
   "id": "ce508006",
   "metadata": {
    "scrolled": false
   },
   "outputs": [],
   "source": [
    "df = pd.read_csv(filepath,parse_dates=['DATA'], date_parser=dateparse)\n",
    "df.head(5)"
   ]
  },
  {
   "cell_type": "code",
   "execution_count": null,
   "id": "243b1b76",
   "metadata": {},
   "outputs": [],
   "source": [
    "df['ESDEVENIMENT'].value_counts()"
   ]
  },
  {
   "cell_type": "code",
   "execution_count": null,
   "id": "7fd546e5",
   "metadata": {},
   "outputs": [],
   "source": [
    "df.info()"
   ]
  },
  {
   "cell_type": "code",
   "execution_count": null,
   "id": "70c2873d",
   "metadata": {},
   "outputs": [],
   "source": [
    "df.shape"
   ]
  },
  {
   "cell_type": "code",
   "execution_count": null,
   "id": "0593ba99",
   "metadata": {},
   "outputs": [],
   "source": [
    "# sum homes and dones\n",
    "df_unisex = df.groupby([ \"DATA\", \"EDAT\", \"ESDEVENIMENT\", \"PAUTA\"])[[\"RECOMPTE\"]].sum() "
   ]
  },
  {
   "cell_type": "code",
   "execution_count": null,
   "id": "8be82765",
   "metadata": {},
   "outputs": [],
   "source": [
    "df_unisex.head(25)"
   ]
  },
  {
   "cell_type": "markdown",
   "id": "5d9b4085",
   "metadata": {},
   "source": [
    "Usarem els casos registrats a Catalunya entre el 10 d'Octubre i el 10 de desembre on la variant delta era la majoritària."
   ]
  },
  {
   "cell_type": "markdown",
   "id": "f0098b05",
   "metadata": {},
   "source": [
    "Utilitzarem el [número de persones vacunades al 10 de novembre segons grup d'edat](https://analisi.transparenciacatalunya.cat/Salut/Vacunaci-per-al-COVID-19-dosis-administrades-per-r/tp23-dey4/data) i el [número total de persones per grups d'edat de l de gener](https://www.idescat.cat/pub/?id=aec&n=253) per a normalitzar."
   ]
  },
  {
   "cell_type": "code",
   "execution_count": null,
   "id": "c80f2546",
   "metadata": {},
   "outputs": [],
   "source": [
    "# Subset Pandas Dataframe Using Range of Dates\n",
    "#df[\"begin_index_date\" : \"end_index_date]['2005-05-01':'2005-08-31']\n",
    "\n",
    "df_unisex_targ_date = df_unisex['2021-10-10':'2021-12-10']\n",
    "df_unisex_targ_date.head()"
   ]
  },
  {
   "cell_type": "code",
   "execution_count": null,
   "id": "e0f7d80c",
   "metadata": {},
   "outputs": [],
   "source": [
    "df_unisex_targ_date = df_unisex_targ_date.reset_index()\n",
    "df_unisex_targ_date.tail()"
   ]
  },
  {
   "cell_type": "markdown",
   "id": "dffe2f5d",
   "metadata": {},
   "source": [
    "### [Número de persones vacunades al 10 de novembre segons grup d'edat:](https://analisi.transparenciacatalunya.cat/Salut/Vacunaci-per-al-COVID-19-dosis-administrades-per-r/tp23-dey4/data)"
   ]
  },
  {
   "cell_type": "code",
   "execution_count": null,
   "id": "5ff6e6b6",
   "metadata": {},
   "outputs": [],
   "source": [
    "path_vac = 'C:/capes_sql/vac_edats/vac_per_edats.csv'"
   ]
  },
  {
   "cell_type": "code",
   "execution_count": null,
   "id": "2ab270a8",
   "metadata": {},
   "outputs": [],
   "source": [
    "df_vac = pd.read_csv(path_vac, parse_dates=['DATA'], date_parser=dateparse, index_col= ['DATA'])"
   ]
  },
  {
   "cell_type": "code",
   "execution_count": null,
   "id": "bf31fdfb",
   "metadata": {},
   "outputs": [],
   "source": [
    "df_vac.head(5)"
   ]
  },
  {
   "cell_type": "code",
   "execution_count": null,
   "id": "8e916638",
   "metadata": {},
   "outputs": [],
   "source": [
    "df_vac_grouped = df_vac.groupby([ \"DATA\",  \"DOSI\", \"EDAT\"])[[\"RECOMPTE\"]].sum() "
   ]
  },
  {
   "cell_type": "code",
   "execution_count": null,
   "id": "25a52cc1",
   "metadata": {},
   "outputs": [],
   "source": [
    "df_vac_grouped.head()"
   ]
  },
  {
   "cell_type": "code",
   "execution_count": null,
   "id": "f068fcf0",
   "metadata": {},
   "outputs": [],
   "source": [
    "# Check min value of index \n",
    "print(df_vac.index.min())\n",
    "\n",
    "# Check max value of index \n",
    "print(df_vac.index.max())"
   ]
  },
  {
   "cell_type": "code",
   "execution_count": null,
   "id": "b5fcf254",
   "metadata": {},
   "outputs": [],
   "source": [
    "df_vac_dates = df_vac_grouped['2020-12-27':'2021-11-10'] # 10 d'Octubre"
   ]
  },
  {
   "cell_type": "code",
   "execution_count": null,
   "id": "96142dbd",
   "metadata": {},
   "outputs": [],
   "source": [
    "df_vac_dates.tail(60)"
   ]
  },
  {
   "cell_type": "markdown",
   "id": "d183f8f0",
   "metadata": {},
   "source": [
    "Els grups de població per edats donades les dades seran:\n"
   ]
  },
  {
   "cell_type": "markdown",
   "id": "b4a0a033",
   "metadata": {},
   "source": [
    "0,19\n",
    "\n",
    "20,29\n",
    "\n",
    "30,39\n",
    "\n",
    "40,49\n",
    "\n",
    "50,59\n",
    "\n",
    "60,69\n",
    "\n",
    "70,79\n",
    "\n",
    "80 o més"
   ]
  },
  {
   "cell_type": "markdown",
   "id": "30355f86",
   "metadata": {},
   "source": [
    "Per tant anem a fer les agrupacions per edat correctes pels dos datasets."
   ]
  },
  {
   "cell_type": "code",
   "execution_count": null,
   "id": "0c866fa7",
   "metadata": {},
   "outputs": [],
   "source": [
    "# casos df:\n",
    "df_unisex_targ_date.head()"
   ]
  },
  {
   "cell_type": "code",
   "execution_count": null,
   "id": "d8aa34a2",
   "metadata": {},
   "outputs": [],
   "source": [
    "#gettting rows on a specific condition\n",
    "df_unisex_targ_date.loc[df_unisex_targ_date['EDAT'] == \"0 a 9\"]"
   ]
  },
  {
   "cell_type": "code",
   "execution_count": null,
   "id": "917659cd",
   "metadata": {},
   "outputs": [],
   "source": [
    "#gettting rows on a specific condition\n",
    "df_unisex_targ_date.loc[df_unisex_targ_date['EDAT']  == \"10 a 19\"]"
   ]
  },
  {
   "cell_type": "code",
   "execution_count": null,
   "id": "86dc6c0c",
   "metadata": {},
   "outputs": [],
   "source": [
    "#gettting rows on a specific condition\n",
    "df_prova = df_unisex_targ_date.loc[df_unisex_targ_date['EDAT'] == \"10 a 19\", 'RECOMPTE'] = df_unisex_targ_date['RECOMPTE'] + 2\n"
   ]
  },
  {
   "cell_type": "code",
   "execution_count": null,
   "id": "2e5a608c",
   "metadata": {},
   "outputs": [],
   "source": [
    "df_prova.loc[df_prova['EDAT']  == \"10 a 19\"]"
   ]
  },
  {
   "cell_type": "code",
   "execution_count": null,
   "id": "3af5b1cc",
   "metadata": {},
   "outputs": [],
   "source": [
    "df_unisex_targ_date.loc[df_unisex_targ_date['EDAT'] == \"0 a 9\", 'RECOMPTE']"
   ]
  },
  {
   "cell_type": "code",
   "execution_count": null,
   "id": "76fcf45e",
   "metadata": {},
   "outputs": [],
   "source": []
  }
 ],
 "metadata": {
  "kernelspec": {
   "display_name": "Python 3 (ipykernel)",
   "language": "python",
   "name": "python3"
  },
  "language_info": {
   "codemirror_mode": {
    "name": "ipython",
    "version": 3
   },
   "file_extension": ".py",
   "mimetype": "text/x-python",
   "name": "python",
   "nbconvert_exporter": "python",
   "pygments_lexer": "ipython3",
   "version": "3.8.10"
  }
 },
 "nbformat": 4,
 "nbformat_minor": 5
}
